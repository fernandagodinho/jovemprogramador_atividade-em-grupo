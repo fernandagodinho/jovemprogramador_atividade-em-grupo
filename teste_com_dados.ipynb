{
  "nbformat": 4,
  "nbformat_minor": 0,
  "metadata": {
    "colab": {
      "provenance": [],
      "authorship_tag": "ABX9TyORMJ7oNqFx1ZN/tkgLUvJ5",
      "include_colab_link": true
    },
    "kernelspec": {
      "name": "python3",
      "display_name": "Python 3"
    },
    "language_info": {
      "name": "python"
    }
  },
  "cells": [
    {
      "cell_type": "markdown",
      "metadata": {
        "id": "view-in-github",
        "colab_type": "text"
      },
      "source": [
        "<a href=\"https://colab.research.google.com/github/fernandagodinho/jovemprogramador_atividade-em-grupo/blob/main/teste_com_dados.ipynb\" target=\"_parent\"><img src=\"https://colab.research.google.com/assets/colab-badge.svg\" alt=\"Open In Colab\"/></a>"
      ]
    },
    {
      "cell_type": "markdown",
      "source": [
        "**Registro de Dados:**\n",
        "Durante cada partida, as tentativas, os palpites e os resultados são registrados em uma lista de dicionários.\n",
        "\n",
        "**DataFrame com pandas:**\n",
        " Os dados são organizados em um DataFrame, permitindo análise e manipulação eficiente.\n",
        "\n",
        "**Resumo Estatístico:**\n",
        "Ao fim, mostramos informações agregadas, como número de tentativas por jogador."
      ],
      "metadata": {
        "id": "RRG7-PtlLX_I"
      }
    },
    {
      "cell_type": "code",
      "source": [
        "import random\n",
        "import pandas as pd"
      ],
      "metadata": {
        "id": "nOvL3cSeLrwF"
      },
      "execution_count": 3,
      "outputs": []
    },
    {
      "cell_type": "code",
      "source": [
        "def jogar():\n",
        "    nome = input(\"Digite seu nome: \")\n",
        "    print(\"\\nBem-vindo(a) ao Jogo de Adivinhação, {}!\".format(nome))\n",
        "    print(\"Tente adivinhar o número secreto entre 1 e 100.\")\n",
        "    print(\"Você tem 7 tentativas.\\n\")\n",
        "\n",
        "    numero_secreto = random.randint(1, 100)\n",
        "    tentativas = 0\n",
        "    pontuacao = 0\n",
        "    dados = []  # Armazena dados das tentativa\n",
        "    while tentativas < 7:\n",
        "        tentativas += 1\n",
        "        try:\n",
        "            palpite = int(input(\"Tentativa {}: Digite um número: \".format(tentativas)))\n",
        "            if 1 <= palpite <= 100:\n",
        "                if palpite == numero_secreto:\n",
        "                    print(\"\\nParabéns, {}! Você acertou o número em {} tentativas!\".format(nome, tentativas))\n",
        "                    pontuacao = 100 - (tentativas - 1) * 10\n",
        "                    dados.append({'Jogador': nome, 'Tentativa': tentativas, 'Palpite': palpite, 'Resultado': 'Acertou'})\n",
        "                    break\n",
        "                elif palpite < numero_secreto:\n",
        "                    print(\"O número secreto é maior.\\n\")\n",
        "                    dados.append({'Jogador': nome, 'Tentativa': tentativas, 'Palpite': palpite, 'Resultado': 'Menor que o secreto'})\n",
        "                else:\n",
        "                    print(\"O número secreto é menor.\\n\")\n",
        "                    dados.append({'Jogador': nome, 'Tentativa': tentativas, 'Palpite': palpite, 'Resultado': 'Maior que o secreto'})\n",
        "            else:\n",
        "                print(\"Por favor, digite um número entre 1 e 100.\\n\")\n",
        "                tentativas -= 1  # Não contar tentativa inválida\n",
        "        except ValueError:\n",
        "            print(\"Entrada inválida. Por favor, digite um número inteiro.\\n\")\n",
        "            tentativas -= 1  # Não contar tentativa inválida\n",
        "\n",
        "    if tentativas == 7 and palpite != numero_secreto:\n",
        "        print(\"\\nFim das tentativas, {}! Você não conseguiu adivinhar.\".format(nome))\n",
        "        print(\"O número secreto era {}.\\n\".format(numero_secreto))\n",
        "        dados.append({'Jogador': nome, 'Tentativa': 'Max', 'Palpite': 'N/A', 'Resultado': 'Não acertou'})\n",
        "\n",
        "    # Criar DataFrame para análises\n",
        "    df = pd.DataFrame(dados)\n",
        "    print(\"\\nDados da Partida:\")\n",
        "    print(df)\n",
        "    return df\n",
        "\n",
        "def main():\n",
        "    df_total = pd.DataFrame()  # Acumula os dados de todas as partidas\n",
        "    while True:\n",
        "        df_partida = jogar()\n",
        "        df_total = pd.concat([df_total, df_partida], ignore_index=True)\n",
        "\n",
        "        jogar_novamente = input(\"Deseja jogar novamente? (s/n): \").lower()\n",
        "        if jogar_novamente != 's':\n",
        "            break\n",
        "\n",
        "    print(\"\\n----- Dados Totais -----\")\n",
        "    print(df_total)\n",
        "    print(\"\\nResumo Estatístico:\")\n",
        "    print(df_total.groupby('Jogador').agg({'Tentativa': 'count'}))\n",
        "    print(\"-----------------------\")\n",
        "\n",
        "if __name__ == \"__main__\":\n",
        "    main()\n"
      ],
      "metadata": {
        "colab": {
          "base_uri": "https://localhost:8080/"
        },
        "id": "1cxCfSQbL2fF",
        "outputId": "bea94dc8-11f5-4876-e898-b52211c6c284"
      },
      "execution_count": null,
      "outputs": [
        {
          "output_type": "stream",
          "name": "stdout",
          "text": [
            "Digite seu nome: Fernanda\n",
            "\n",
            "Bem-vindo(a) ao Jogo de Adivinhação, Fernanda!\n",
            "Tente adivinhar o número secreto entre 1 e 100.\n",
            "Você tem 7 tentativas.\n",
            "\n",
            "Tentativa 1: Digite um número: 50\n",
            "O número secreto é maior.\n",
            "\n",
            "Tentativa 2: Digite um número: 65\n",
            "O número secreto é maior.\n",
            "\n",
            "Tentativa 3: Digite um número: 79\n",
            "O número secreto é menor.\n",
            "\n",
            "Tentativa 4: Digite um número: 69\n",
            "O número secreto é maior.\n",
            "\n",
            "Tentativa 5: Digite um número: 72\n",
            "\n",
            "Parabéns, Fernanda! Você acertou o número em 5 tentativas!\n",
            "\n",
            "Dados da Partida:\n",
            "    Jogador  Tentativa  Palpite            Resultado\n",
            "0  Fernanda          1       50  Menor que o secreto\n",
            "1  Fernanda          2       65  Menor que o secreto\n",
            "2  Fernanda          3       79  Maior que o secreto\n",
            "3  Fernanda          4       69  Menor que o secreto\n",
            "4  Fernanda          5       72              Acertou\n"
          ]
        }
      ]
    }
  ]
}